{
 "cells": [
  {
   "cell_type": "markdown",
   "metadata": {},
   "source": [
    "# Assignment 3: Recommender Systems"
   ]
  },
  {
   "cell_type": "markdown",
   "metadata": {},
   "source": [
    "We use the well-known MovieLens dataset (in this case the small version). You may find the following useful to obtain the data from the GroupLens repository, and to read it into a dataframe."
   ]
  },
  {
   "cell_type": "code",
   "execution_count": 1,
   "metadata": {},
   "outputs": [],
   "source": [
    "import os, requests\n",
    "import numpy as np\n",
    "\n",
    "#mlSize = \"ml-1m\"\n",
    "#mlSize = \"ml-100k\"\n",
    "mlSize = \"ml-latest-small\"\n",
    "zipUrl = 'http://files.grouplens.org/datasets/movielens/'+mlSize+'.zip'\n",
    "zipFile = 'data/'+mlSize+'.zip'\n",
    "dataFile = zipFile\n",
    "url = zipUrl\n",
    "dataDir = 'data'\n",
    "if not os.path.exists(dataDir):\n",
    "    os.makedirs(dataDir)\n",
    "if not os.path.isfile(zipFile):\n",
    "    r = requests.get(zipUrl)\n",
    "    with open(zipFile, 'wb') as f:\n",
    "        f.write(r.content)\n",
    "\n",
    "# Need to unzip the file to read its contents\n",
    "import zipfile\n",
    "with zipfile.ZipFile(zipFile,\"r\") as zip_ref:\n",
    "    zip_ref.extractall(dataDir)"
   ]
  },
  {
   "cell_type": "code",
   "execution_count": 2,
   "metadata": {},
   "outputs": [
    {
     "data": {
      "text/html": [
       "<div>\n",
       "<style scoped>\n",
       "    .dataframe tbody tr th:only-of-type {\n",
       "        vertical-align: middle;\n",
       "    }\n",
       "\n",
       "    .dataframe tbody tr th {\n",
       "        vertical-align: top;\n",
       "    }\n",
       "\n",
       "    .dataframe thead th {\n",
       "        text-align: right;\n",
       "    }\n",
       "</style>\n",
       "<table border=\"1\" class=\"dataframe\">\n",
       "  <thead>\n",
       "    <tr style=\"text-align: right;\">\n",
       "      <th></th>\n",
       "      <th>UserID</th>\n",
       "      <th>MovieID</th>\n",
       "      <th>Rating</th>\n",
       "      <th>Timestamp</th>\n",
       "    </tr>\n",
       "  </thead>\n",
       "  <tbody>\n",
       "    <tr>\n",
       "      <th>0</th>\n",
       "      <td>1</td>\n",
       "      <td>1</td>\n",
       "      <td>4.0</td>\n",
       "      <td>964982703</td>\n",
       "    </tr>\n",
       "    <tr>\n",
       "      <th>1</th>\n",
       "      <td>1</td>\n",
       "      <td>3</td>\n",
       "      <td>4.0</td>\n",
       "      <td>964981247</td>\n",
       "    </tr>\n",
       "    <tr>\n",
       "      <th>2</th>\n",
       "      <td>1</td>\n",
       "      <td>6</td>\n",
       "      <td>4.0</td>\n",
       "      <td>964982224</td>\n",
       "    </tr>\n",
       "    <tr>\n",
       "      <th>3</th>\n",
       "      <td>1</td>\n",
       "      <td>47</td>\n",
       "      <td>5.0</td>\n",
       "      <td>964983815</td>\n",
       "    </tr>\n",
       "    <tr>\n",
       "      <th>4</th>\n",
       "      <td>1</td>\n",
       "      <td>50</td>\n",
       "      <td>5.0</td>\n",
       "      <td>964982931</td>\n",
       "    </tr>\n",
       "  </tbody>\n",
       "</table>\n",
       "</div>"
      ],
      "text/plain": [
       "   UserID  MovieID  Rating  Timestamp\n",
       "0       1        1     4.0  964982703\n",
       "1       1        3     4.0  964981247\n",
       "2       1        6     4.0  964982224\n",
       "3       1       47     5.0  964983815\n",
       "4       1       50     5.0  964982931"
      ]
     },
     "execution_count": 2,
     "metadata": {},
     "output_type": "execute_result"
    }
   ],
   "source": [
    "# Read the ratings data into a dataframe\n",
    "import pandas as pd\n",
    "fn = 'ratings.csv'\n",
    "colNames = ['UserID','MovieID','Rating','Timestamp']\n",
    "ratingsDf = pd.read_csv('data/'+mlSize+'/'+fn, names=colNames, skiprows=1, sep=',', engine='python')\n",
    "ratingsDf.head()"
   ]
  },
  {
   "cell_type": "code",
   "execution_count": 3,
   "metadata": {},
   "outputs": [
    {
     "name": "stdout",
     "output_type": "stream",
     "text": [
      "Timestamp now is time.struct_time(tm_year=2021, tm_mon=5, tm_mday=12, tm_hour=11, tm_min=17, tm_sec=5, tm_wday=2, tm_yday=132, tm_isdst=0) which is 2021-05-12 11:17:05\n"
     ]
    }
   ],
   "source": [
    "# Timestamps are difficult for humans to read, so convert them into a more readable format\n",
    "import time\n",
    "ts = time.gmtime()\n",
    "print(\"Timestamp now is {} which is {}\".format(str(ts),time.strftime(\"%Y-%m-%d %H:%M:%S\", ts)))"
   ]
  },
  {
   "cell_type": "code",
   "execution_count": 4,
   "metadata": {},
   "outputs": [
    {
     "data": {
      "text/html": [
       "<div>\n",
       "<style scoped>\n",
       "    .dataframe tbody tr th:only-of-type {\n",
       "        vertical-align: middle;\n",
       "    }\n",
       "\n",
       "    .dataframe tbody tr th {\n",
       "        vertical-align: top;\n",
       "    }\n",
       "\n",
       "    .dataframe thead th {\n",
       "        text-align: right;\n",
       "    }\n",
       "</style>\n",
       "<table border=\"1\" class=\"dataframe\">\n",
       "  <thead>\n",
       "    <tr style=\"text-align: right;\">\n",
       "      <th></th>\n",
       "      <th>UserID</th>\n",
       "      <th>MovieID</th>\n",
       "      <th>Rating</th>\n",
       "      <th>DateTime</th>\n",
       "    </tr>\n",
       "  </thead>\n",
       "  <tbody>\n",
       "    <tr>\n",
       "      <th>0</th>\n",
       "      <td>1</td>\n",
       "      <td>1</td>\n",
       "      <td>4.0</td>\n",
       "      <td>2000-07-30 18:45:03</td>\n",
       "    </tr>\n",
       "    <tr>\n",
       "      <th>1</th>\n",
       "      <td>1</td>\n",
       "      <td>3</td>\n",
       "      <td>4.0</td>\n",
       "      <td>2000-07-30 18:20:47</td>\n",
       "    </tr>\n",
       "    <tr>\n",
       "      <th>2</th>\n",
       "      <td>1</td>\n",
       "      <td>6</td>\n",
       "      <td>4.0</td>\n",
       "      <td>2000-07-30 18:37:04</td>\n",
       "    </tr>\n",
       "    <tr>\n",
       "      <th>3</th>\n",
       "      <td>1</td>\n",
       "      <td>47</td>\n",
       "      <td>5.0</td>\n",
       "      <td>2000-07-30 19:03:35</td>\n",
       "    </tr>\n",
       "    <tr>\n",
       "      <th>4</th>\n",
       "      <td>1</td>\n",
       "      <td>50</td>\n",
       "      <td>5.0</td>\n",
       "      <td>2000-07-30 18:48:51</td>\n",
       "    </tr>\n",
       "  </tbody>\n",
       "</table>\n",
       "</div>"
      ],
      "text/plain": [
       "   UserID  MovieID  Rating            DateTime\n",
       "0       1        1     4.0 2000-07-30 18:45:03\n",
       "1       1        3     4.0 2000-07-30 18:20:47\n",
       "2       1        6     4.0 2000-07-30 18:37:04\n",
       "3       1       47     5.0 2000-07-30 19:03:35\n",
       "4       1       50     5.0 2000-07-30 18:48:51"
      ]
     },
     "execution_count": 4,
     "metadata": {},
     "output_type": "execute_result"
    }
   ],
   "source": [
    "ratingsDf['DateTime'] = pd.to_datetime(ratingsDf['Timestamp'],unit='s')\n",
    "ratingsDf.drop(columns=['Timestamp'], inplace=True)\n",
    "ratingsDf.head()"
   ]
  },
  {
   "cell_type": "markdown",
   "metadata": {},
   "source": [
    "__Task 2.1__: Based on the code above, read the `movies.csv` data files into data frames. In the past,\n",
    "GroupLens also included user data. Comment on why that is no longer the case and what this means for\n",
    "recommendation algorithms.\n"
   ]
  },
  {
   "cell_type": "code",
   "execution_count": 5,
   "metadata": {},
   "outputs": [],
   "source": [
    "## BEGIN YOUR ANSWER HERE"
   ]
  },
  {
   "cell_type": "code",
   "execution_count": 6,
   "metadata": {},
   "outputs": [
    {
     "data": {
      "text/html": [
       "<div>\n",
       "<style scoped>\n",
       "    .dataframe tbody tr th:only-of-type {\n",
       "        vertical-align: middle;\n",
       "    }\n",
       "\n",
       "    .dataframe tbody tr th {\n",
       "        vertical-align: top;\n",
       "    }\n",
       "\n",
       "    .dataframe thead th {\n",
       "        text-align: right;\n",
       "    }\n",
       "</style>\n",
       "<table border=\"1\" class=\"dataframe\">\n",
       "  <thead>\n",
       "    <tr style=\"text-align: right;\">\n",
       "      <th></th>\n",
       "      <th>MovieID</th>\n",
       "      <th>Title</th>\n",
       "      <th>Genres</th>\n",
       "    </tr>\n",
       "  </thead>\n",
       "  <tbody>\n",
       "    <tr>\n",
       "      <th>0</th>\n",
       "      <td>1</td>\n",
       "      <td>Toy Story (1995)</td>\n",
       "      <td>Adventure|Animation|Children|Comedy|Fantasy</td>\n",
       "    </tr>\n",
       "    <tr>\n",
       "      <th>1</th>\n",
       "      <td>2</td>\n",
       "      <td>Jumanji (1995)</td>\n",
       "      <td>Adventure|Children|Fantasy</td>\n",
       "    </tr>\n",
       "    <tr>\n",
       "      <th>2</th>\n",
       "      <td>3</td>\n",
       "      <td>Grumpier Old Men (1995)</td>\n",
       "      <td>Comedy|Romance</td>\n",
       "    </tr>\n",
       "    <tr>\n",
       "      <th>3</th>\n",
       "      <td>4</td>\n",
       "      <td>Waiting to Exhale (1995)</td>\n",
       "      <td>Comedy|Drama|Romance</td>\n",
       "    </tr>\n",
       "    <tr>\n",
       "      <th>4</th>\n",
       "      <td>5</td>\n",
       "      <td>Father of the Bride Part II (1995)</td>\n",
       "      <td>Comedy</td>\n",
       "    </tr>\n",
       "  </tbody>\n",
       "</table>\n",
       "</div>"
      ],
      "text/plain": [
       "   MovieID                               Title  \\\n",
       "0        1                    Toy Story (1995)   \n",
       "1        2                      Jumanji (1995)   \n",
       "2        3             Grumpier Old Men (1995)   \n",
       "3        4            Waiting to Exhale (1995)   \n",
       "4        5  Father of the Bride Part II (1995)   \n",
       "\n",
       "                                        Genres  \n",
       "0  Adventure|Animation|Children|Comedy|Fantasy  \n",
       "1                   Adventure|Children|Fantasy  \n",
       "2                               Comedy|Romance  \n",
       "3                         Comedy|Drama|Romance  \n",
       "4                                       Comedy  "
      ]
     },
     "execution_count": 6,
     "metadata": {},
     "output_type": "execute_result"
    }
   ],
   "source": [
    "# Read the movies data into a dataframe\n",
    "import pandas as pd\n",
    "fn = 'movies.csv'\n",
    "colNames = ['MovieID', 'Title', 'Genres']\n",
    "moviesDf = pd.read_csv('data/'+mlSize+'/'+fn, names=colNames, skiprows=1, sep=',', engine='python')\n",
    "moviesDf.head()"
   ]
  },
  {
   "cell_type": "markdown",
   "metadata": {},
   "source": [
    "**Comments**\n",
    "\n",
    "The following excerpts from the README.txt file that comes with the data package show that anonymizing the user data was a deliberate policy. Only a user-id is used, with no demographic details.\n",
    "\n",
    "* *MovieLens users were selected at random for inclusion. Their ids have been anonymized. User ids are consistent between `ratings.csv` and `tags.csv` (i.e., the same id refers to the same user across the two files).*\n",
    "* *These data were created by 610 users between March 29, 1996 and September 24, 2018. This dataset was generated on September 26, 2018.*\n",
    "* *Users were selected at random for inclusion. All selected users had rated at least 20 movies. No demographic information is included. Each user is represented by an id, and no other information is provided.*\n",
    "\n",
    "Every day, vast quantities of data are exchanged, processed, and collected around the world in the digital age of a global knowledge economy. Many of these activities have been made possible by significant technical advances in computing and networking technologies in recent years.  Although many countries around the world agree on the importance of individual privacy, privacy interpretations and law applicability differ. Some countries view and preserve privacy as a fundamental right, while others provide privacy protection as part of other constitutional doctrines. Even so, some countries have yet to enact any privacy safeguards.  With the popular example of the target recommender guessing that a teenage girl was pregnant, recommendation systems will make inferences based on past behaviour. Users' privacy will be jeopardized as a result of this. To comply with legal obligations or to address ethical concerns about privacy security, MovieLens has anonymized the data.\n",
    "\n",
    "The type of data in the dataset is an important factor when considering a recommender system to use. The majority of our data is based on ratings, tags and movies. We have no user information.  As a result, the algorithm we can use with this dataset is limited. Collaborative filtering between users recommends products that are common among similar customers. Since we don't have user registration details, social relationships between users, or backgrounds like their location or language, this won't work for this anonymized data collection. Item-item collaborative filtering, on the other hand, may be able to provide valuable suggestions. In this category of algorithms, Slope One is a viable option. Content-based filtering strategies can be effective because they are based on content.  Content-based filtering matches up items based on their attributes to a customer’s preferences which we do have in terms of the ratings and the sentiment contained in the tags.  We can use information from the IMDB and TMDB online data sources, which is referenced per movie in the links table, so as to complement the movie metadata to make the item detail richer. Given a high affinity of the items, ARM techniques are the most likely to be good techniques for the dataset as well. Algorithms based on NMF are now emerging that will make recommendations while maintaining user privacy so the user privacy concerns could be addressed going forward.\n",
    "\n",
    "I believe the argument is that, despite the lack of detailed user knowledge, we are not entirely constrained in our ability to use the recommendation engines on this data set, and some thought should be given to how to overcome the lack of user data within the context of the desired objectives."
   ]
  },
  {
   "cell_type": "code",
   "execution_count": 7,
   "metadata": {},
   "outputs": [],
   "source": [
    "## END YOUR ANSWER HERE"
   ]
  },
  {
   "cell_type": "markdown",
   "metadata": {},
   "source": [
    "The following code can be used to filter the number of Movies. Choosing a large threshold (like 200) ensures that only \"blockbuster\" movies with that number of aggregate ratings will be considered. This is convenient (much reduced runtimes!) when developing your solution, but a less stringent threshold should be used for the result you hand in (100 is required)."
   ]
  },
  {
   "cell_type": "code",
   "execution_count": 8,
   "metadata": {},
   "outputs": [
    {
     "name": "stdout",
     "output_type": "stream",
     "text": [
      "Filtered ratings - omitting movies with less than 100 ratings results in 134 ratings\n"
     ]
    }
   ],
   "source": [
    "#minMovieRatings = 200\n",
    "minMovieRatings = 100\n",
    "filterMovies = ratingsDf['MovieID'].value_counts() > minMovieRatings\n",
    "filterMovies = filterMovies[filterMovies].index.tolist()\n",
    "print('Filtered ratings - omitting movies with less than {} ratings results in {} ratings'.format(minMovieRatings, len(filterMovies)))"
   ]
  },
  {
   "cell_type": "markdown",
   "metadata": {},
   "source": [
    " __Task 2.2__\n",
    "<br /> a) You should apply a similar filter to the Users, selecting only those who rated at least 80 movies.\n",
    "<br /> b) You should then apply `filterUsers` and `filterMovies` filters to the ratings dataframe, you might find the `isin(filteredSet)` function useful.\n",
    "<br /> c) You are given some code below to help you visualise the distribution of counts of ratings by user. Hence or otherwise comment on the similarities and differences between the distributions of ratings by user and of ratings by Movie."
   ]
  },
  {
   "cell_type": "code",
   "execution_count": 9,
   "metadata": {},
   "outputs": [],
   "source": [
    "## BEGIN YOUR ANSWER HERE"
   ]
  },
  {
   "cell_type": "code",
   "execution_count": 10,
   "metadata": {},
   "outputs": [
    {
     "name": "stdout",
     "output_type": "stream",
     "text": [
      "Filtered ratings - omitting users with less than 80 ratings results in 285 ratings\n"
     ]
    }
   ],
   "source": [
    "#2.2.a)\n",
    "\n",
    "minUserRatings = 80\n",
    "filterUsers = ratingsDf['UserID'].value_counts() > minUserRatings\n",
    "filterUsers = filterUsers[filterUsers].index.tolist()\n",
    "print('Filtered ratings - omitting users with less than {} ratings results in {} ratings'.format(minUserRatings, len(filterUsers)))"
   ]
  },
  {
   "cell_type": "markdown",
   "metadata": {},
   "source": [
    "**Comments**\n",
    "\n",
    "I am curious to know how many Users and Movies sit in an intersection of these two sets.  ![intersection diagram](./img/intersection.png \"Set intersection\")"
   ]
  },
  {
   "cell_type": "code",
   "execution_count": 11,
   "metadata": {},
   "outputs": [
    {
     "data": {
      "text/plain": [
       "30"
      ]
     },
     "execution_count": 11,
     "metadata": {},
     "output_type": "execute_result"
    }
   ],
   "source": [
    "filterUsersSet = set(filterUsers)\n",
    "filterMoviesSet = set(filterMovies)\n",
    "intersection = set.intersection(filterUsersSet, filterMoviesSet)\n",
    "len(intersection)\n",
    "\n",
    "# Number of users and movies in the intersection\n",
    "# Must be absolute block busters!? Or maybe the worst as well?"
   ]
  },
  {
   "cell_type": "code",
   "execution_count": 12,
   "metadata": {},
   "outputs": [
    {
     "data": {
      "text/html": [
       "<div>\n",
       "<style scoped>\n",
       "    .dataframe tbody tr th:only-of-type {\n",
       "        vertical-align: middle;\n",
       "    }\n",
       "\n",
       "    .dataframe tbody tr th {\n",
       "        vertical-align: top;\n",
       "    }\n",
       "\n",
       "    .dataframe thead th {\n",
       "        text-align: right;\n",
       "    }\n",
       "</style>\n",
       "<table border=\"1\" class=\"dataframe\">\n",
       "  <thead>\n",
       "    <tr style=\"text-align: right;\">\n",
       "      <th></th>\n",
       "      <th>Title</th>\n",
       "      <th>Rating</th>\n",
       "    </tr>\n",
       "    <tr>\n",
       "      <th>MovieID</th>\n",
       "      <th></th>\n",
       "      <th></th>\n",
       "    </tr>\n",
       "  </thead>\n",
       "  <tbody>\n",
       "    <tr>\n",
       "      <th>318</th>\n",
       "      <td>Shawshank Redemption, The (1994)</td>\n",
       "      <td>4.429022</td>\n",
       "    </tr>\n",
       "    <tr>\n",
       "      <th>50</th>\n",
       "      <td>Usual Suspects, The (1995)</td>\n",
       "      <td>4.237745</td>\n",
       "    </tr>\n",
       "    <tr>\n",
       "      <th>260</th>\n",
       "      <td>Star Wars: Episode IV - A New Hope (1977)</td>\n",
       "      <td>4.231076</td>\n",
       "    </tr>\n",
       "    <tr>\n",
       "      <th>527</th>\n",
       "      <td>Schindler's List (1993)</td>\n",
       "      <td>4.225000</td>\n",
       "    </tr>\n",
       "    <tr>\n",
       "      <th>356</th>\n",
       "      <td>Forrest Gump (1994)</td>\n",
       "      <td>4.164134</td>\n",
       "    </tr>\n",
       "    <tr>\n",
       "      <th>593</th>\n",
       "      <td>Silence of the Lambs, The (1991)</td>\n",
       "      <td>4.161290</td>\n",
       "    </tr>\n",
       "    <tr>\n",
       "      <th>608</th>\n",
       "      <td>Fargo (1996)</td>\n",
       "      <td>4.116022</td>\n",
       "    </tr>\n",
       "    <tr>\n",
       "      <th>111</th>\n",
       "      <td>Taxi Driver (1976)</td>\n",
       "      <td>4.105769</td>\n",
       "    </tr>\n",
       "    <tr>\n",
       "      <th>541</th>\n",
       "      <td>Blade Runner (1982)</td>\n",
       "      <td>4.100806</td>\n",
       "    </tr>\n",
       "    <tr>\n",
       "      <th>32</th>\n",
       "      <td>Twelve Monkeys (a.k.a. 12 Monkeys) (1995)</td>\n",
       "      <td>3.983051</td>\n",
       "    </tr>\n",
       "    <tr>\n",
       "      <th>47</th>\n",
       "      <td>Seven (a.k.a. Se7en) (1995)</td>\n",
       "      <td>3.975369</td>\n",
       "    </tr>\n",
       "    <tr>\n",
       "      <th>6</th>\n",
       "      <td>Heat (1995)</td>\n",
       "      <td>3.946078</td>\n",
       "    </tr>\n",
       "    <tr>\n",
       "      <th>1</th>\n",
       "      <td>Toy Story (1995)</td>\n",
       "      <td>3.920930</td>\n",
       "    </tr>\n",
       "    <tr>\n",
       "      <th>590</th>\n",
       "      <td>Dances with Wolves (1990)</td>\n",
       "      <td>3.835366</td>\n",
       "    </tr>\n",
       "    <tr>\n",
       "      <th>480</th>\n",
       "      <td>Jurassic Park (1993)</td>\n",
       "      <td>3.750000</td>\n",
       "    </tr>\n",
       "    <tr>\n",
       "      <th>34</th>\n",
       "      <td>Babe (1995)</td>\n",
       "      <td>3.652344</td>\n",
       "    </tr>\n",
       "    <tr>\n",
       "      <th>377</th>\n",
       "      <td>Speed (1994)</td>\n",
       "      <td>3.529240</td>\n",
       "    </tr>\n",
       "    <tr>\n",
       "      <th>357</th>\n",
       "      <td>Four Weddings and a Funeral (1994)</td>\n",
       "      <td>3.519417</td>\n",
       "    </tr>\n",
       "    <tr>\n",
       "      <th>380</th>\n",
       "      <td>True Lies (1994)</td>\n",
       "      <td>3.497191</td>\n",
       "    </tr>\n",
       "    <tr>\n",
       "      <th>10</th>\n",
       "      <td>GoldenEye (1995)</td>\n",
       "      <td>3.496212</td>\n",
       "    </tr>\n",
       "    <tr>\n",
       "      <th>597</th>\n",
       "      <td>Pretty Woman (1990)</td>\n",
       "      <td>3.485185</td>\n",
       "    </tr>\n",
       "    <tr>\n",
       "      <th>587</th>\n",
       "      <td>Ghost (1990)</td>\n",
       "      <td>3.434783</td>\n",
       "    </tr>\n",
       "    <tr>\n",
       "      <th>592</th>\n",
       "      <td>Batman (1989)</td>\n",
       "      <td>3.428571</td>\n",
       "    </tr>\n",
       "    <tr>\n",
       "      <th>292</th>\n",
       "      <td>Outbreak (1995)</td>\n",
       "      <td>3.425743</td>\n",
       "    </tr>\n",
       "    <tr>\n",
       "      <th>500</th>\n",
       "      <td>Mrs. Doubtfire (1993)</td>\n",
       "      <td>3.388889</td>\n",
       "    </tr>\n",
       "    <tr>\n",
       "      <th>39</th>\n",
       "      <td>Clueless (1995)</td>\n",
       "      <td>3.293269</td>\n",
       "    </tr>\n",
       "    <tr>\n",
       "      <th>367</th>\n",
       "      <td>Mask, The (1994)</td>\n",
       "      <td>3.184713</td>\n",
       "    </tr>\n",
       "    <tr>\n",
       "      <th>434</th>\n",
       "      <td>Cliffhanger (1993)</td>\n",
       "      <td>3.034653</td>\n",
       "    </tr>\n",
       "    <tr>\n",
       "      <th>586</th>\n",
       "      <td>Home Alone (1990)</td>\n",
       "      <td>2.995690</td>\n",
       "    </tr>\n",
       "    <tr>\n",
       "      <th>153</th>\n",
       "      <td>Batman Forever (1995)</td>\n",
       "      <td>2.916058</td>\n",
       "    </tr>\n",
       "  </tbody>\n",
       "</table>\n",
       "</div>"
      ],
      "text/plain": [
       "                                             Title    Rating\n",
       "MovieID                                                     \n",
       "318               Shawshank Redemption, The (1994)  4.429022\n",
       "50                      Usual Suspects, The (1995)  4.237745\n",
       "260      Star Wars: Episode IV - A New Hope (1977)  4.231076\n",
       "527                        Schindler's List (1993)  4.225000\n",
       "356                            Forrest Gump (1994)  4.164134\n",
       "593               Silence of the Lambs, The (1991)  4.161290\n",
       "608                                   Fargo (1996)  4.116022\n",
       "111                             Taxi Driver (1976)  4.105769\n",
       "541                            Blade Runner (1982)  4.100806\n",
       "32       Twelve Monkeys (a.k.a. 12 Monkeys) (1995)  3.983051\n",
       "47                     Seven (a.k.a. Se7en) (1995)  3.975369\n",
       "6                                      Heat (1995)  3.946078\n",
       "1                                 Toy Story (1995)  3.920930\n",
       "590                      Dances with Wolves (1990)  3.835366\n",
       "480                           Jurassic Park (1993)  3.750000\n",
       "34                                     Babe (1995)  3.652344\n",
       "377                                   Speed (1994)  3.529240\n",
       "357             Four Weddings and a Funeral (1994)  3.519417\n",
       "380                               True Lies (1994)  3.497191\n",
       "10                                GoldenEye (1995)  3.496212\n",
       "597                            Pretty Woman (1990)  3.485185\n",
       "587                                   Ghost (1990)  3.434783\n",
       "592                                  Batman (1989)  3.428571\n",
       "292                                Outbreak (1995)  3.425743\n",
       "500                          Mrs. Doubtfire (1993)  3.388889\n",
       "39                                 Clueless (1995)  3.293269\n",
       "367                               Mask, The (1994)  3.184713\n",
       "434                             Cliffhanger (1993)  3.034653\n",
       "586                              Home Alone (1990)  2.995690\n",
       "153                          Batman Forever (1995)  2.916058"
      ]
     },
     "execution_count": 12,
     "metadata": {},
     "output_type": "execute_result"
    }
   ],
   "source": [
    "movieSide = moviesDf[moviesDf['MovieID'].isin(intersection)][[\"Title\", \"MovieID\"]]\n",
    "movieSide.set_index([\"MovieID\"], inplace = True, drop = True)\n",
    "\n",
    "ratingsSide = ratingsDf[ratingsDf['MovieID'].isin(intersection)].groupby('MovieID')[[\"Rating\", \"MovieID\"]].mean()\n",
    "ratingsSide.set_index([\"MovieID\"], inplace = True, drop = True)\n",
    "\n",
    "Top30 = movieSide.merge(ratingsSide, left_index=True, right_index=True)\n",
    "Top30.sort_values(by=['Rating'], ascending=False)"
   ]
  },
  {
   "cell_type": "markdown",
   "metadata": {},
   "source": [
    "It's worth noting that these aren't really \"high-ranking\" films, as I had assumed; instead, they're \"classic\" and watched by a wide variety of users."
   ]
  },
  {
   "cell_type": "code",
   "execution_count": 13,
   "metadata": {},
   "outputs": [
    {
     "name": "stdout",
     "output_type": "stream",
     "text": [
      "610\n",
      "9724\n"
     ]
    }
   ],
   "source": [
    "# Get some perspective...\n",
    "\n",
    "# Number of users\n",
    "print(ratingsDf['UserID'].nunique())\n",
    "\n",
    "# Number of movies\n",
    "print(ratingsDf['MovieID'].nunique())"
   ]
  },
  {
   "cell_type": "markdown",
   "metadata": {},
   "source": [
    "Surprisingly, the intersection of movies and user feedback above the threshold just makes up a small portion of the initial dataset. I also find it surprising that only 1.3 percent of movies meet our minimum threshold, even though nearly half of all users (46.7 percent) meet that minimum threshold.\n",
    "\n",
    "This tells me the user base generally is quite active in terms of reviewing movies. The reviewers seldom over review a particular movie and the reviews are diverse else there would be more in the intersection.\n",
    "\n",
    "I think this diversity is valuable information for the recommender system as it helps to mitigate too much similarity between the users.  From my analysis and interpretation, these ratings represent a diverse range of opinions. As a consequence, I imagine that if the movie metadata is improved by providing information such as awards-won, director, producer, actors, year of release, and so on, a recommendation engine will infer good recommendations to users based on item-item (content-based) filtering based of these existing ratings."
   ]
  },
  {
   "cell_type": "code",
   "execution_count": 14,
   "metadata": {},
   "outputs": [],
   "source": [
    "## END YOUR ANSWER HERE"
   ]
  },
  {
   "cell_type": "markdown",
   "metadata": {},
   "source": [
    "#### User Count Dataframe"
   ]
  },
  {
   "cell_type": "markdown",
   "metadata": {},
   "source": [
    "Using the filtered ratings dataframe, count the ratings per User and plot this data in a histogram. "
   ]
  },
  {
   "cell_type": "code",
   "execution_count": 15,
   "metadata": {},
   "outputs": [
    {
     "data": {
      "text/plain": [
       "(87622, 4)"
      ]
     },
     "execution_count": 15,
     "metadata": {},
     "output_type": "execute_result"
    }
   ],
   "source": [
    "# 2.2.b\n",
    "\n",
    "filter_Ratings_by_User_Df = ratingsDf[ratingsDf['UserID'].isin(filterUsers)]\n",
    "filter_Ratings_by_User_Df.shape\n",
    "\n",
    "# Renaming Df too make more explicit for program control (less confusing)..."
   ]
  },
  {
   "cell_type": "code",
   "execution_count": 16,
   "metadata": {},
   "outputs": [
    {
     "data": {
      "text/html": [
       "<div>\n",
       "<style scoped>\n",
       "    .dataframe tbody tr th:only-of-type {\n",
       "        vertical-align: middle;\n",
       "    }\n",
       "\n",
       "    .dataframe tbody tr th {\n",
       "        vertical-align: top;\n",
       "    }\n",
       "\n",
       "    .dataframe thead th {\n",
       "        text-align: right;\n",
       "    }\n",
       "</style>\n",
       "<table border=\"1\" class=\"dataframe\">\n",
       "  <thead>\n",
       "    <tr style=\"text-align: right;\">\n",
       "      <th></th>\n",
       "      <th>Count_of_Ratings</th>\n",
       "    </tr>\n",
       "  </thead>\n",
       "  <tbody>\n",
       "    <tr>\n",
       "      <th>count</th>\n",
       "      <td>285.000000</td>\n",
       "    </tr>\n",
       "    <tr>\n",
       "      <th>mean</th>\n",
       "      <td>307.445614</td>\n",
       "    </tr>\n",
       "    <tr>\n",
       "      <th>std</th>\n",
       "      <td>342.576363</td>\n",
       "    </tr>\n",
       "    <tr>\n",
       "      <th>min</th>\n",
       "      <td>81.000000</td>\n",
       "    </tr>\n",
       "    <tr>\n",
       "      <th>25%</th>\n",
       "      <td>119.000000</td>\n",
       "    </tr>\n",
       "    <tr>\n",
       "      <th>50%</th>\n",
       "      <td>186.000000</td>\n",
       "    </tr>\n",
       "    <tr>\n",
       "      <th>75%</th>\n",
       "      <td>363.000000</td>\n",
       "    </tr>\n",
       "    <tr>\n",
       "      <th>max</th>\n",
       "      <td>2698.000000</td>\n",
       "    </tr>\n",
       "  </tbody>\n",
       "</table>\n",
       "</div>"
      ],
      "text/plain": [
       "       Count_of_Ratings\n",
       "count        285.000000\n",
       "mean         307.445614\n",
       "std          342.576363\n",
       "min           81.000000\n",
       "25%          119.000000\n",
       "50%          186.000000\n",
       "75%          363.000000\n",
       "max         2698.000000"
      ]
     },
     "execution_count": 16,
     "metadata": {},
     "output_type": "execute_result"
    }
   ],
   "source": [
    "# Get the filter_Ratings_by_User_Df groupby object\n",
    "userRatedCounts = filter_Ratings_by_User_Df.groupby(['UserID'])[['Rating']].count().sort_values('Rating', ascending=False)\n",
    "userRatedCounts.columns = ['Count_of_Ratings']\n",
    "userRatedCounts.describe()"
   ]
  },
  {
   "cell_type": "code",
   "execution_count": 17,
   "metadata": {},
   "outputs": [
    {
     "name": "stdout",
     "output_type": "stream",
     "text": [
      "There are 285 users who rated movies (above the min threshold), with the median and maximum number of movies rated by these users being 186.0 and 2698\n",
      "Note: These are stats about the most active reviewers on the platform, i.e. those who reviewed at least 80 movies.\n"
     ]
    }
   ],
   "source": [
    "# Compute summaries of the userRatedCounts object\n",
    "medianNumRatingsPerUser = userRatedCounts.median()['Count_of_Ratings']\n",
    "minNumRatingsPerUser = userRatedCounts.min()['Count_of_Ratings']\n",
    "maxNumRatingsPerUser = userRatedCounts.max()['Count_of_Ratings']\n",
    "numUniqueFilteredUsers = filter_Ratings_by_User_Df['UserID'].nunique() \n",
    "print(\"There are {} users who rated movies (above the min threshold), with the median and maximum number of movies rated by these users being {} and {}\".format(numUniqueFilteredUsers,medianNumRatingsPerUser,maxNumRatingsPerUser))\n",
    "print(\"Note: These are stats about the most active reviewers on the platform, i.e. those who reviewed at least {} movies.\".format(minUserRatings))"
   ]
  },
  {
   "cell_type": "code",
   "execution_count": 18,
   "metadata": {
    "scrolled": true
   },
   "outputs": [
    {
     "data": {
      "image/png": "[encoded data removed]",
      "text/plain": [
       "<Figure size 432x288 with 1 Axes>"
      ]
     },
     "metadata": {
      "needs_background": "light"
     },
     "output_type": "display_data"
    }
   ],
   "source": [
    "# Plot the (plain) distribution of rating counts by user\n",
    "import matplotlib.pyplot as plt\n",
    "import numpy as np\n",
    "%matplotlib inline\n",
    "rangeUserRatings = np.arange(minNumRatingsPerUser-1,maxNumRatingsPerUser)\n",
    "plt.hist(userRatedCounts['Count_of_Ratings'], bins=30)\n",
    "xlabel = 'How many movies were rated by each user'\n",
    "ylabel = 'Number of Users'\n",
    "title = 'Distribution of rating counts per User'\n",
    "plt.ylabel(ylabel)\n",
    "plt.xlabel(xlabel)\n",
    "plt.axvline(x=medianNumRatingsPerUser, color='r')\n",
    "plt.title(title)\n",
    "plt.text(-40, -40, \"Plot Chart 1\", fontsize=14)  # For in-text referencing\n",
    "plt.show()"
   ]
  },
  {
   "cell_type": "code",
   "execution_count": 19,
   "metadata": {},
   "outputs": [
    {
     "data": {
      "image/png": "[encoded data removed]",
      "text/plain": [
       "<Figure size 360x360 with 1 Axes>"
      ]
     },
     "metadata": {
      "needs_background": "light"
     },
     "output_type": "display_data"
    }
   ],
   "source": [
    "# Plot the annotated distribution of rating counts per user\n",
    "import seaborn as sns\n",
    "g = sns.displot(data=userRatedCounts['Count_of_Ratings'], bins=30, kde=True, rug=True)\n",
    "xlabel = 'How many movies were rated by each user'\n",
    "ylabel = 'Number of Users'\n",
    "title = \"Annotated distribution of rating counts per user\"\n",
    "g.set_axis_labels(xlabel,ylabel)\n",
    "g.fig.suptitle(title)\n",
    "plt.text(-40, -30, \"Plot Chart 2\", fontsize=14)  # For in-text referencing\n",
    "plt.show()"
   ]
  },
  {
   "cell_type": "markdown",
   "metadata": {},
   "source": [
    "#### Movie Count Dataframe"
   ]
  },
  {
   "cell_type": "markdown",
   "metadata": {},
   "source": [
    "Using the filtered ratings dataframe, count the ratings per movie and plot this data in a histogram."
   ]
  },
  {
   "cell_type": "code",
   "execution_count": 20,
   "metadata": {},
   "outputs": [
    {
     "data": {
      "text/plain": [
       "(19788, 4)"
      ]
     },
     "execution_count": 20,
     "metadata": {},
     "output_type": "execute_result"
    }
   ],
   "source": [
    "# 2.2.b cont.\n",
    "\n",
    "filter_Ratings_by_Movie_Df = ratingsDf[ratingsDf['MovieID'].isin(filterMovies)]\n",
    "filter_Ratings_by_Movie_Df.shape"
   ]
  },
  {
   "cell_type": "code",
   "execution_count": 21,
   "metadata": {
    "scrolled": true
   },
   "outputs": [
    {
     "data": {
      "text/html": [
       "<div>\n",
       "<style scoped>\n",
       "    .dataframe tbody tr th:only-of-type {\n",
       "        vertical-align: middle;\n",
       "    }\n",
       "\n",
       "    .dataframe tbody tr th {\n",
       "        vertical-align: top;\n",
       "    }\n",
       "\n",
       "    .dataframe thead th {\n",
       "        text-align: right;\n",
       "    }\n",
       "</style>\n",
       "<table border=\"1\" class=\"dataframe\">\n",
       "  <thead>\n",
       "    <tr style=\"text-align: right;\">\n",
       "      <th></th>\n",
       "      <th>Count_of_Ratings</th>\n",
       "    </tr>\n",
       "  </thead>\n",
       "  <tbody>\n",
       "    <tr>\n",
       "      <th>count</th>\n",
       "      <td>134.000000</td>\n",
       "    </tr>\n",
       "    <tr>\n",
       "      <th>mean</th>\n",
       "      <td>147.671642</td>\n",
       "    </tr>\n",
       "    <tr>\n",
       "      <th>std</th>\n",
       "      <td>47.349886</td>\n",
       "    </tr>\n",
       "    <tr>\n",
       "      <th>min</th>\n",
       "      <td>101.000000</td>\n",
       "    </tr>\n",
       "    <tr>\n",
       "      <th>25%</th>\n",
       "      <td>112.000000</td>\n",
       "    </tr>\n",
       "    <tr>\n",
       "      <th>50%</th>\n",
       "      <td>132.000000</td>\n",
       "    </tr>\n",
       "    <tr>\n",
       "      <th>75%</th>\n",
       "      <td>171.000000</td>\n",
       "    </tr>\n",
       "    <tr>\n",
       "      <th>max</th>\n",
       "      <td>329.000000</td>\n",
       "    </tr>\n",
       "  </tbody>\n",
       "</table>\n",
       "</div>"
      ],
      "text/plain": [
       "       Count_of_Ratings\n",
       "count        134.000000\n",
       "mean         147.671642\n",
       "std           47.349886\n",
       "min          101.000000\n",
       "25%          112.000000\n",
       "50%          132.000000\n",
       "75%          171.000000\n",
       "max          329.000000"
      ]
     },
     "execution_count": 21,
     "metadata": {},
     "output_type": "execute_result"
    }
   ],
   "source": [
    "# Get the movieRated groupby object\n",
    "movieRatedCounts = filter_Ratings_by_Movie_Df.groupby(['MovieID'])[['Rating']].count().sort_values('Rating', ascending=False)\n",
    "movieRatedCounts.columns = ['Count_of_Ratings']\n",
    "movieRatedCounts.describe()"
   ]
  },
  {
   "cell_type": "code",
   "execution_count": 22,
   "metadata": {},
   "outputs": [
    {
     "name": "stdout",
     "output_type": "stream",
     "text": [
      "There are 134 movies rated by users (above the min threshold), with the median and maximum number of ratings per movie being 132.0 and 329 respectively.\n",
      "Note: These are stats about the most reviewed movies on the platform, i.e. those movies having received at least 100 reviews.\n"
     ]
    }
   ],
   "source": [
    "# Compute summaries of the userRated object\n",
    "medianNumRatingsPerMovie = movieRatedCounts.median()['Count_of_Ratings']\n",
    "minNumRatingsPerMovie = movieRatedCounts.min()['Count_of_Ratings']\n",
    "maxNumRatingsPerMovie = movieRatedCounts.max()['Count_of_Ratings']\n",
    "numUniqueFilteredMovies = filter_Ratings_by_Movie_Df['MovieID'].nunique() \n",
    "print(\"There are {} movies rated by users (above the min threshold), with the median and maximum number of ratings per movie being {} and {} respectively.\".format(numUniqueFilteredMovies,medianNumRatingsPerMovie,maxNumRatingsPerMovie))\n",
    "print(\"Note: These are stats about the most reviewed movies on the platform, i.e. those movies having received at least {} reviews.\".format(minMovieRatings))"
   ]
  },
  {
   "cell_type": "code",
   "execution_count": 23,
   "metadata": {},
   "outputs": [
    {
     "data": {
      "image/png": "[encoded data removed]",
      "text/plain": [
       "<Figure size 432x288 with 1 Axes>"
      ]
     },
     "metadata": {
      "needs_background": "light"
     },
     "output_type": "display_data"
    }
   ],
   "source": [
    "# Plot the (plain) distribution of rating counts by movie\n",
    "import matplotlib.pyplot as plt\n",
    "import numpy as np\n",
    "%matplotlib inline\n",
    "rangeMovieRatings = np.arange(minNumRatingsPerMovie-1,maxNumRatingsPerMovie)\n",
    "plt.hist(movieRatedCounts['Count_of_Ratings'], bins=30)\n",
    "xlabel = 'How many ratings were given to a movie'\n",
    "ylabel = 'Number times rated'\n",
    "title = 'Distribution of rating counts per movie'\n",
    "plt.ylabel(ylabel)\n",
    "plt.xlabel(xlabel)\n",
    "plt.axvline(x=medianNumRatingsPerMovie, color='r')\n",
    "plt.title(title)\n",
    "plt.text(100, -8, \"Plot Chart 3\", fontsize=14)  # For in-text referencing\n",
    "plt.show()"
   ]
  },
  {
   "cell_type": "code",
   "execution_count": 24,
   "metadata": {},
   "outputs": [
    {
     "data": {
      "image/png": "[encoded data removed]",
      "text/plain": [
       "<Figure size 360x360 with 1 Axes>"
      ]
     },
     "metadata": {
      "needs_background": "light"
     },
     "output_type": "display_data"
    }
   ],
   "source": [
    "# Plot the annotated distribution of rating counts per movie\n",
    "import seaborn as sns\n",
    "g = sns.displot(data=movieRatedCounts['Count_of_Ratings'], bins=30, kde=True, rug=True)\n",
    "xlabel = 'How many ratings were given to a movie'\n",
    "ylabel = 'Number of times rated'\n",
    "title = \"Annotated distribution of rating counts per movie\"\n",
    "g.set_axis_labels(xlabel,ylabel)\n",
    "g.fig.suptitle(title)\n",
    "plt.text(100, -5, \"Plot Chart 4\", fontsize=14)  # For in-text referencing\n",
    "plt.show()"
   ]
  },
  {
   "cell_type": "code",
   "execution_count": 25,
   "metadata": {},
   "outputs": [],
   "source": [
    "# 2.2.c"
   ]
  },
  {
   "cell_type": "markdown",
   "metadata": {},
   "source": [
    "The long tail is visible in the distribution of rating count per user (Plot Chart 1). This demonstrates the diversity of the movies reviewed by the users, which I discovered earlier by investigating the intersect.  The long tail in this case means a rich source of ratings for recommendation engines.  I interpret the distribution to mean a lot of users provided at least 150 reviews while some exceptional users reviewed in the order of 2500.  This will give a very useful dataset for the recommendation engines as it will have diversity.  I believe data like that should lend itself to item-item recommendations and item-user recommendations.\n",
    "\n",
    "The distribution of rating counts per movie reveals a long tail (Plot Chart 3) in a similar but less obvious way. I interpret this to suggest that many of the films have rating counts in the 20-25 range. This is a healthy amount of reviews. There are a few movies that are outliers with over 300 ratings at the end of the tail.  In the case of these outliers, I believe we should be on guard for too much similarity. There are clearly popular films to watch, and we must ensure that the tradeoff between similarity and diversity is balanced, so that \"over-rated\" films aren't continually recommended with a bias toward films further down the tail. To mitigate the effect of such, maybe a penalty weighting system should be implemented.\n",
    "\n",
    "Although they have a similar form, these two distributions tell different stories or viewpoints about the dataset and must be interpreted in light of what they reveal. In terms of user ratings, I see a long tail as positive, while in terms of movie ratings counts, I see a potentially negative to the long tail."
   ]
  },
  {
   "cell_type": "markdown",
   "metadata": {},
   "source": [
    "---"
   ]
  },
  {
   "cell_type": "markdown",
   "metadata": {},
   "source": [
    "__Task 2.3__: Repeat Task 2.2 above, but deriving the average ratings rather than their counts.\n",
    "The distribution of average ratings per user differs from the distribution of how many movies a user reviews.\n",
    "You can also look at the distribution of average ratings per movie and the distribution of how many users rate each movie.\n",
    "From your understanding of a rating system, comment on the similarities and differences."
   ]
  },
  {
   "cell_type": "code",
   "execution_count": 26,
   "metadata": {},
   "outputs": [],
   "source": [
    "## BEGIN YOUR ANSWER HERE\n",
    "\n",
    "# 2.3"
   ]
  },
  {
   "cell_type": "markdown",
   "metadata": {},
   "source": [
    "### Average Rating Mean by User"
   ]
  },
  {
   "cell_type": "code",
   "execution_count": 27,
   "metadata": {},
   "outputs": [
    {
     "data": {
      "text/html": [
       "<div>\n",
       "<style scoped>\n",
       "    .dataframe tbody tr th:only-of-type {\n",
       "        vertical-align: middle;\n",
       "    }\n",
       "\n",
       "    .dataframe tbody tr th {\n",
       "        vertical-align: top;\n",
       "    }\n",
       "\n",
       "    .dataframe thead th {\n",
       "        text-align: right;\n",
       "    }\n",
       "</style>\n",
       "<table border=\"1\" class=\"dataframe\">\n",
       "  <thead>\n",
       "    <tr style=\"text-align: right;\">\n",
       "      <th></th>\n",
       "      <th>Rating</th>\n",
       "    </tr>\n",
       "    <tr>\n",
       "      <th>UserID</th>\n",
       "      <th></th>\n",
       "    </tr>\n",
       "  </thead>\n",
       "  <tbody>\n",
       "    <tr>\n",
       "      <th>171</th>\n",
       "      <td>4.634146</td>\n",
       "    </tr>\n",
       "    <tr>\n",
       "      <th>452</th>\n",
       "      <td>4.556931</td>\n",
       "    </tr>\n",
       "    <tr>\n",
       "      <th>43</th>\n",
       "      <td>4.552632</td>\n",
       "    </tr>\n",
       "    <tr>\n",
       "      <th>122</th>\n",
       "      <td>4.546233</td>\n",
       "    </tr>\n",
       "    <tr>\n",
       "      <th>52</th>\n",
       "      <td>4.476923</td>\n",
       "    </tr>\n",
       "  </tbody>\n",
       "</table>\n",
       "</div>"
      ],
      "text/plain": [
       "          Rating\n",
       "UserID          \n",
       "171     4.634146\n",
       "452     4.556931\n",
       "43      4.552632\n",
       "122     4.546233\n",
       "52      4.476923"
      ]
     },
     "execution_count": 27,
     "metadata": {},
     "output_type": "execute_result"
    }
   ],
   "source": [
    "# Get the userRated groupby object - mean\n",
    "userRatedMean = filter_Ratings_by_User_Df.groupby(['UserID'])[['Rating']].mean().sort_values('Rating', ascending=False)\n",
    "userRatedMean.head()"
   ]
  },
  {
   "cell_type": "code",
   "execution_count": 28,
   "metadata": {},
   "outputs": [
    {
     "data": {
      "text/html": [
       "<div>\n",
       "<style scoped>\n",
       "    .dataframe tbody tr th:only-of-type {\n",
       "        vertical-align: middle;\n",
       "    }\n",
       "\n",
       "    .dataframe tbody tr th {\n",
       "        vertical-align: top;\n",
       "    }\n",
       "\n",
       "    .dataframe thead th {\n",
       "        text-align: right;\n",
       "    }\n",
       "</style>\n",
       "<table border=\"1\" class=\"dataframe\">\n",
       "  <thead>\n",
       "    <tr style=\"text-align: right;\">\n",
       "      <th></th>\n",
       "      <th>Rating</th>\n",
       "    </tr>\n",
       "  </thead>\n",
       "  <tbody>\n",
       "    <tr>\n",
       "      <th>count</th>\n",
       "      <td>285.000000</td>\n",
       "    </tr>\n",
       "    <tr>\n",
       "      <th>mean</th>\n",
       "      <td>3.599428</td>\n",
       "    </tr>\n",
       "    <tr>\n",
       "      <th>std</th>\n",
       "      <td>0.449707</td>\n",
       "    </tr>\n",
       "    <tr>\n",
       "      <th>min</th>\n",
       "      <td>2.144330</td>\n",
       "    </tr>\n",
       "    <tr>\n",
       "      <th>25%</th>\n",
       "      <td>3.339394</td>\n",
       "    </tr>\n",
       "    <tr>\n",
       "      <th>50%</th>\n",
       "      <td>3.646667</td>\n",
       "    </tr>\n",
       "    <tr>\n",
       "      <th>75%</th>\n",
       "      <td>3.907162</td>\n",
       "    </tr>\n",
       "    <tr>\n",
       "      <th>max</th>\n",
       "      <td>4.634146</td>\n",
       "    </tr>\n",
       "  </tbody>\n",
       "</table>\n",
       "</div>"
      ],
      "text/plain": [
       "           Rating\n",
       "count  285.000000\n",
       "mean     3.599428\n",
       "std      0.449707\n",
       "min      2.144330\n",
       "25%      3.339394\n",
       "50%      3.646667\n",
       "75%      3.907162\n",
       "max      4.634146"
      ]
     },
     "execution_count": 28,
     "metadata": {},
     "output_type": "execute_result"
    }
   ],
   "source": [
    "userRatedMean.describe()"
   ]
  },
  {
   "cell_type": "code",
   "execution_count": 48,
   "metadata": {},
   "outputs": [
    {
     "name": "stdout",
     "output_type": "stream",
     "text": [
      "There are 285 users who rated movies (above the min threshold), with the median and maximum rating of movies being 3.6466666666666665 and 4.634146341463414 respectively\n"
     ]
    }
   ],
   "source": [
    "# Compute summaries of the userRatedMean object\n",
    "medianUserRatedMean = userRatedMean.median()['Rating']\n",
    "minUserRatedMean = userRatedMean.min()['Rating']\n",
    "maxUserRatedMean = userRatedMean.max()['Rating']\n",
    "numUniqueFilteredUsers = filter_Ratings_by_User_Df['UserID'].nunique() \n",
    "print(\"There are {} users who rated movies (above the min threshold), with the median and maximum rating of movies being {} and {} respectively\".format(numUniqueFilteredUsers,medianUserRatedMean,maxUserRatedMean))"
   ]
  },
  {
   "cell_type": "code",
   "execution_count": 30,
   "metadata": {
    "scrolled": true
   },
   "outputs": [
    {
     "data": {
      "image/png": "[encoded data removed]",
      "text/plain": [
       "<Figure size 432x288 with 1 Axes>"
      ]
     },
     "metadata": {
      "needs_background": "light"
     },
     "output_type": "display_data"
    }
   ],
   "source": [
    "# Plot the (plain) distribution of average rating by users\n",
    "import matplotlib.pyplot as plt\n",
    "import numpy as np\n",
    "%matplotlib inline\n",
    "rangeUserRatings = np.arange(minNumRatingsPerUser-1,maxUserRatedMean)\n",
    "plt.hist(userRatedMean['Rating'], bins=30)\n",
    "xlabel = 'Average Rating'\n",
    "ylabel = 'Number of Users'\n",
    "title = 'Distribution of average rating by users'\n",
    "plt.ylabel(ylabel)\n",
    "plt.xlabel(xlabel)\n",
    "plt.axvline(x=medianUserRatedMean, color='r')\n",
    "plt.text(0, 0, \"Plot Chart 5\", fontsize=14)  # For in-text referencing\n",
    "plt.title(title)\n",
    "plt.show()"
   ]
  },
  {
   "cell_type": "code",
   "execution_count": 31,
   "metadata": {},
   "outputs": [
    {
     "data": {
      "image/png": "[encoded data removed]",
      "text/plain": [
       "<Figure size 360x360 with 1 Axes>"
      ]
     },
     "metadata": {
      "needs_background": "light"
     },
     "output_type": "display_data"
    }
   ],
   "source": [
    "# Plot the annotated distribution of rating counts per user\n",
    "import seaborn as sns\n",
    "g = sns.displot(data=userRatedMean['Rating'], bins=30, kde=True, rug=True)\n",
    "xlabel = 'Average Rating'\n",
    "ylabel = 'Number of Users'\n",
    "title = 'Distribution of average rating by users'\n",
    "g.fig.suptitle(title)\n",
    "g.set_axis_labels(xlabel,ylabel)\n",
    "plt.text(0.5, 0, \"Plot Chart 6\", fontsize=14)  # For in-text referencing\n",
    "plt.show()"
   ]
  },
  {
   "cell_type": "markdown",
   "metadata": {},
   "source": [
    "### Average Rating Mean by Movie"
   ]
  },
  {
   "cell_type": "code",
   "execution_count": 32,
   "metadata": {
    "scrolled": true
   },
   "outputs": [
    {
     "data": {
      "text/html": [
       "<div>\n",
       "<style scoped>\n",
       "    .dataframe tbody tr th:only-of-type {\n",
       "        vertical-align: middle;\n",
       "    }\n",
       "\n",
       "    .dataframe tbody tr th {\n",
       "        vertical-align: top;\n",
       "    }\n",
       "\n",
       "    .dataframe thead th {\n",
       "        text-align: right;\n",
       "    }\n",
       "</style>\n",
       "<table border=\"1\" class=\"dataframe\">\n",
       "  <thead>\n",
       "    <tr style=\"text-align: right;\">\n",
       "      <th></th>\n",
       "      <th>Rating</th>\n",
       "    </tr>\n",
       "    <tr>\n",
       "      <th>MovieID</th>\n",
       "      <th></th>\n",
       "    </tr>\n",
       "  </thead>\n",
       "  <tbody>\n",
       "    <tr>\n",
       "      <th>318</th>\n",
       "      <td>4.429022</td>\n",
       "    </tr>\n",
       "    <tr>\n",
       "      <th>858</th>\n",
       "      <td>4.289062</td>\n",
       "    </tr>\n",
       "    <tr>\n",
       "      <th>2959</th>\n",
       "      <td>4.272936</td>\n",
       "    </tr>\n",
       "    <tr>\n",
       "      <th>1221</th>\n",
       "      <td>4.259690</td>\n",
       "    </tr>\n",
       "    <tr>\n",
       "      <th>48516</th>\n",
       "      <td>4.252336</td>\n",
       "    </tr>\n",
       "  </tbody>\n",
       "</table>\n",
       "</div>"
      ],
      "text/plain": [
       "           Rating\n",
       "MovieID          \n",
       "318      4.429022\n",
       "858      4.289062\n",
       "2959     4.272936\n",
       "1221     4.259690\n",
       "48516    4.252336"
      ]
     },
     "execution_count": 32,
     "metadata": {},
     "output_type": "execute_result"
    }
   ],
   "source": [
    "# Get the movieRated groupby object - mean\n",
    "movieRatedMean = filter_Ratings_by_Movie_Df.groupby(['MovieID'])[['Rating']].mean().sort_values('Rating', ascending=False)\n",
    "movieRatedMean.head()"
   ]
  },
  {
   "cell_type": "code",
   "execution_count": 33,
   "metadata": {},
   "outputs": [
    {
     "data": {
      "text/html": [
       "<div>\n",
       "<style scoped>\n",
       "    .dataframe tbody tr th:only-of-type {\n",
       "        vertical-align: middle;\n",
       "    }\n",
       "\n",
       "    .dataframe tbody tr th {\n",
       "        vertical-align: top;\n",
       "    }\n",
       "\n",
       "    .dataframe thead th {\n",
       "        text-align: right;\n",
       "    }\n",
       "</style>\n",
       "<table border=\"1\" class=\"dataframe\">\n",
       "  <thead>\n",
       "    <tr style=\"text-align: right;\">\n",
       "      <th></th>\n",
       "      <th>Rating</th>\n",
       "    </tr>\n",
       "  </thead>\n",
       "  <tbody>\n",
       "    <tr>\n",
       "      <th>count</th>\n",
       "      <td>134.000000</td>\n",
       "    </tr>\n",
       "    <tr>\n",
       "      <th>mean</th>\n",
       "      <td>3.820059</td>\n",
       "    </tr>\n",
       "    <tr>\n",
       "      <th>std</th>\n",
       "      <td>0.342938</td>\n",
       "    </tr>\n",
       "    <tr>\n",
       "      <th>min</th>\n",
       "      <td>2.913043</td>\n",
       "    </tr>\n",
       "    <tr>\n",
       "      <th>25%</th>\n",
       "      <td>3.566176</td>\n",
       "    </tr>\n",
       "    <tr>\n",
       "      <th>50%</th>\n",
       "      <td>3.883902</td>\n",
       "    </tr>\n",
       "    <tr>\n",
       "      <th>75%</th>\n",
       "      <td>4.094172</td>\n",
       "    </tr>\n",
       "    <tr>\n",
       "      <th>max</th>\n",
       "      <td>4.429022</td>\n",
       "    </tr>\n",
       "  </tbody>\n",
       "</table>\n",
       "</div>"
      ],
      "text/plain": [
       "           Rating\n",
       "count  134.000000\n",
       "mean     3.820059\n",
       "std      0.342938\n",
       "min      2.913043\n",
       "25%      3.566176\n",
       "50%      3.883902\n",
       "75%      4.094172\n",
       "max      4.429022"
      ]
     },
     "execution_count": 33,
     "metadata": {},
     "output_type": "execute_result"
    }
   ],
   "source": [
    "movieRatedMean.describe()"
   ]
  },
  {
   "cell_type": "code",
   "execution_count": 34,
   "metadata": {},
   "outputs": [
    {
     "name": "stdout",
     "output_type": "stream",
     "text": [
      "There are 134 movies rated by users (above the min threshold), with the median and maximum rating per movie being 3.883902164217642 and 4.429022082018927 respectively\n"
     ]
    }
   ],
   "source": [
    "# Compute summaries of the movieRatedMean object\n",
    "medianMovieRatedMean = movieRatedMean.median()['Rating']\n",
    "minMovieRatedMean = movieRatedMean.min()['Rating']\n",
    "maxMovieRatedMean = movieRatedMean.max()['Rating']\n",
    "numUniqueFilteredMovies = filter_Ratings_by_Movie_Df['MovieID'].nunique()  \n",
    "print(\"There are {} movies rated by users (above the min threshold), with the median and maximum rating per movie being {} and {} respectively\".format(numUniqueFilteredMovies,medianMovieRatedMean,maxMovieRatedMean))"
   ]
  },
  {
   "cell_type": "code",
   "execution_count": 35,
   "metadata": {
    "scrolled": true
   },
   "outputs": [
    {
     "data": {
      "image/png": "[encoded data removed]",
      "text/plain": [
       "<Figure size 432x288 with 1 Axes>"
      ]
     },
     "metadata": {
      "needs_background": "light"
     },
     "output_type": "display_data"
    }
   ],
   "source": [
    "# Plot the (plain) distribution of average rating by movies\n",
    "import matplotlib.pyplot as plt\n",
    "import numpy as np\n",
    "%matplotlib inline\n",
    "rangeMovieRatings = np.arange(minMovieRatedMean-1,maxMovieRatedMean)\n",
    "plt.hist(movieRatedMean['Rating'], bins=30)\n",
    "xlabel = 'Average Rating'\n",
    "ylabel = 'Number of Movies'\n",
    "title = 'Distribution of average rating by movies'\n",
    "plt.ylabel(ylabel)\n",
    "plt.xlabel(xlabel)\n",
    "plt.axvline(x=medianMovieRatedMean, color='r')\n",
    "plt.title(title)\n",
    "plt.text(2, 0, \"Plot Chart 7\", fontsize=14)  # For in-text referencing\n",
    "plt.show()"
   ]
  },
  {
   "cell_type": "code",
   "execution_count": 36,
   "metadata": {},
   "outputs": [
    {
     "data": {
      "image/png": "[encoded data removed]",
      "text/plain": [
       "<Figure size 360x360 with 1 Axes>"
      ]
     },
     "metadata": {
      "needs_background": "light"
     },
     "output_type": "display_data"
    }
   ],
   "source": [
    "# Plot the annotated distribution of average rating per movie\n",
    "import seaborn as sns\n",
    "g = sns.displot(data=movieRatedMean['Rating'], bins=30, kde=True, rug=True)\n",
    "xlabel = 'Average Rating'\n",
    "ylabel = 'Number of Movies'\n",
    "title = 'Distribution of average rating by movies'\n",
    "g.fig.suptitle(title)\n",
    "g.set_axis_labels(xlabel,ylabel)\n",
    "plt.text(2, 0, \"Plot Chart 8\", fontsize=14)  # For in-text referencing\n",
    "plt.show()"
   ]
  },
  {
   "cell_type": "markdown",
   "metadata": {},
   "source": [
    "#### Look at the distribution of average rating across the all ratings (unfiltered)"
   ]
  },
  {
   "cell_type": "code",
   "execution_count": 37,
   "metadata": {},
   "outputs": [
    {
     "data": {
      "image/png": "[encoded data removed]",
      "text/plain": [
       "<Figure size 360x360 with 1 Axes>"
      ]
     },
     "metadata": {
      "needs_background": "light"
     },
     "output_type": "display_data"
    }
   ],
   "source": [
    "allRatings = ratingsDf.groupby('MovieID')[[\"Rating\"]].mean()\n",
    "\n",
    "# Plot the annotated distribution of average ratings per movie\n",
    "import seaborn as sns\n",
    "g = sns.displot(data=allRatings['Rating'], bins=20, kde=True, rug=True)\n",
    "xlabel = 'Average Rating'\n",
    "ylabel = 'Number of Movies'\n",
    "title = 'Distribution of average rating by movies (Across all ratings)'\n",
    "g.fig.suptitle(title)\n",
    "g.set_axis_labels(xlabel,ylabel)\n",
    "plt.text(0, -250, \"Plot Chart 9\", fontsize=14)  # For in-text referencing\n",
    "plt.show()"
   ]
  },
  {
   "cell_type": "markdown",
   "metadata": {},
   "source": [
    "#### Number of Ratings vs Average Rating"
   ]
  },
  {
   "cell_type": "code",
   "execution_count": 52,
   "metadata": {},
   "outputs": [
    {
     "data": {
      "text/plain": [
       "Text(0.5, -0.4, 'Plot Chart 10')"
      ]
     },
     "execution_count": 52,
     "metadata": {},
     "output_type": "execute_result"
    },
    {
     "data": {
      "image/png": "[encoded data removed]",
      "text/plain": [
       "<Figure size 432x288 with 1 Axes>"
      ]
     },
     "metadata": {
      "needs_background": "light"
     },
     "output_type": "display_data"
    }
   ],
   "source": [
    "meanRatings = ratingsDf.groupby('MovieID')[[\"Rating\"]].mean()\n",
    "\n",
    "countRatings = ratingsDf.groupby('MovieID')[[\"Rating\"]].count()\n",
    "vsRatings = countRatings.merge(meanRatings, left_index=True, right_index=True)\n",
    "vsRatings.columns = [\"No_of_Ratings\", \"Rating\"]\n",
    "\n",
    "sns.scatterplot(data=vsRatings, x=\"No_of_Ratings\", y=\"Rating\").set_title('Plot Chart 10', y=-0.4, fontsize = 14)"
   ]
  },
  {
   "cell_type": "markdown",
   "metadata": {},
   "source": [
    "#### Total Count for Each Rating"
   ]
  },
  {
   "cell_type": "code",
   "execution_count": 39,
   "metadata": {},
   "outputs": [
    {
     "data": {
      "text/plain": [
       "Text(0.5, -0.4, 'Plot Chart 11')"
      ]
     },
     "execution_count": 39,
     "metadata": {},
     "output_type": "execute_result"
    },
    {
     "data": {
      "image/png": "[encoded data removed]",
      "text/plain": [
       "<Figure size 432x288 with 1 Axes>"
      ]
     },
     "metadata": {
      "needs_background": "light"
     },
     "output_type": "display_data"
    }
   ],
   "source": [
    "countRatings2 = ratingsDf.groupby('Rating')[[\"Rating\"]].count()\n",
    "countRatings2.columns = ['Count_of_Ratings']\n",
    "countRatings2['Rating'] = countRatings2.index\n",
    "sns.barplot(data=countRatings2, x=\"Rating\", y=\"Count_of_Ratings\").set_title('Plot Chart 11', y=-0.4, fontsize = 14)\n",
    "\n",
    "#countRatings2"
   ]
  },
  {
   "cell_type": "markdown",
   "metadata": {},
   "source": [
    "**Comments**\n",
    "\n",
    "The distribution of Average User Rating Mean (Plot Chart 5 & 6) resembles a regular bell-curve distribution skewed to the left. According to my interpretation, the range along the x-axis for these filtered movies is greater than 2.5.  It makes sense that a successful film will receive at least a 3 on a scale of 1 to 5, with 1 being an awful film and 5 being a brilliant film. These films have been filtered based on the amount of ratings and, as a result, the number of times they have been reviewed, showing their success.\n",
    "\n",
    "However, I see a similar left-skewed bell-shaped distribution when I look at the distribution of average movie scores for all ratings, unfiltered (Plot Chart 9). The average ranking appears to be between 3 and 4. However, on a scale of only whole numbers, this means that users usually give a score a 3 or a 4. Can I explain this phenomenon by considering a movie watcher's behaviour?\n",
    "\n",
    "**Rating System and User Behaviour**\n",
    "\n",
    "A moviegoer watches a film. It is impossible to give a film a 2.5 rating*. As a result, the user is more likely to give a film a 3 (acceptable) or a 4 (good) rating.  This can clearly be seen in the scatterplot showing the number of ratings vs average rating (Plot Chart 10). They are unlikely to give a film a 5 (outstanding) unless it is really one of their all-time favorites. A truly awful (1) film they would not have wasted time or money to watch in the first place, if it were a bad (2) film they would not have bothered to rate or finish watching it.  Although a loose theory of user behaviour, in general, I believe the rating system is flawed, which may explain the distorted distribution.  In addition, since these are voluntary reviews, subjectivity and bias creeps in. Perhaps the distribution would be different if reviews were done by paid movie-watching professionals, since they would have to watch and rate both good and poor films.\n",
    "\n",
    "Other details about sentiment may be gleaned from sentiment analysis of tags or the amount of times a user watches a movie. If a user watches a movie more than once, it may mean that they enjoy it, but their rating could be decreasing every time the user rates it because watching a movie so many times may make you tired of it.  These particulars may be used to back up scores.\n",
    "\n",
    "The average rating per movie distribution is also skewed to the left and resembles a bell curve (Plot Chart 7 & 8). It supports my hypothesis that users will assign a 3 or 4 rating to films, as described in the summary of their behavior.\n",
    "\n",
    "***Note:** It is possible to give ratings in increments of 0.5 ratings, as shown by the bar chart analysis counting all ratings (Plot Chart 11). However, it's possible that not all of the platforms from which they collect data support this or support has changed over time. Dips in the distribution of average rating by movie can be seen on the bar chart when looking at the total counts of ratings in the unfiltered dataset (Plot Chart 11), as well as on the KDE line when looking at the distribution of average rating by movie (Plot Chart 9) at the .5 increment values.  This is yet another flaw in this rating system."
   ]
  },
  {
   "cell_type": "code",
   "execution_count": 40,
   "metadata": {},
   "outputs": [],
   "source": [
    "## END YOUR ANSWER HERE"
   ]
  },
  {
   "cell_type": "markdown",
   "metadata": {},
   "source": [
    "---"
   ]
  },
  {
   "cell_type": "markdown",
   "metadata": {},
   "source": [
    "__Task 2.4__: Load the (filtered) movies ratings data from the dataframe we have been exploring into the preferred 3-column format used by the `scikit-suprise` package. Now benchmark the performance (in terms of RMS error, time to fit, and time to generate predictions for test data) of the `SVD()`, `SlopeOne()`, `NMF()`, `KNNBasic()` recommendation algorithms. Discuss the strengths and weaknesses of each algorithm, based on its benchmarked results.\n"
   ]
  },
  {
   "cell_type": "code",
   "execution_count": 41,
   "metadata": {},
   "outputs": [],
   "source": [
    "# 1. `scikit-surprise` provides a `cross_validate` function that can be used to estimate the test error in the test data, using the requested error metric.\n",
    "# 2. When collecting the benchmark data, it is convenient to loop over the algorithms and to add the results for each algorithm as a row to the benchmark dataframe.\n",
    "# 3. The following python code can be used to add `results` as a row to a `benchmark` dataframe.\n",
    "# You are advised to plot the results, and to pay attention to fit, test and overall times and how they vary between the algorithms. Comment on what you find."
   ]
  },
  {
   "cell_type": "code",
   "execution_count": 42,
   "metadata": {},
   "outputs": [],
   "source": [
    "from surprise import Dataset, Reader\n",
    "from surprise.model_selection import cross_validate\n",
    "from surprise import KNNBasic, NMF, SlopeOne, SVD\n",
    "\n",
    "reader = Reader(rating_scale=(0, 5))\n",
    "data = Dataset.load_from_df(filter_Ratings_by_Movie_Df[['UserID', 'MovieID', 'Rating']], reader)"
   ]
  },
  {
   "cell_type": "code",
   "execution_count": 43,
   "metadata": {},
   "outputs": [
    {
     "name": "stdout",
     "output_type": "stream",
     "text": [
      "Computing the msd similarity matrix...\n",
      "Done computing similarity matrix.\n",
      "Computing the msd similarity matrix...\n",
      "Done computing similarity matrix.\n",
      "Computing the msd similarity matrix...\n",
      "Done computing similarity matrix.\n",
      "  Algorithm  fit_time  test_mae  test_rmse  test_time  comp_time\n",
      "0  KNNBasic  0.085569  0.646524   0.854813   1.741810   1.827379\n",
      "1       SVD  1.187043  0.628602   0.825025   0.080692   1.267735\n",
      "2  SlopeOne  0.044778  0.621784   0.822816   0.319878   0.364657\n",
      "3       NMF  2.224494  0.655563   0.860738   0.192238   2.416732\n"
     ]
    }
   ],
   "source": [
    "benchmark = pd.DataFrame()\n",
    "algorithms = [KNNBasic(), SVD(), SlopeOne(), NMF()]\n",
    "\n",
    "# Iterate over all algorithms\n",
    "for algorithm in algorithms:\n",
    "    # Perform cross validation\n",
    "    results = cross_validate(algorithm, data, measures=['RMSE','MAE'], cv=3, verbose=False)\n",
    "    \n",
    "    # Get results & append algorithm name\n",
    "    tmp = pd.DataFrame.from_dict(results).mean(axis=0)\n",
    "    tmp = tmp.append(pd.Series([str(algorithm).split(' ')[0].split('.')[-1]], index=['Algorithm']))\n",
    "    benchmark = benchmark.append(tmp, ignore_index=True)\n",
    "    \n",
    "benchmark.set_index('Algorithm').sort_values('test_rmse')\n",
    "benchmark['comp_time'] = benchmark['fit_time'] + benchmark['test_time']\n",
    "\n",
    "print(benchmark)"
   ]
  },
  {
   "cell_type": "code",
   "execution_count": 44,
   "metadata": {},
   "outputs": [],
   "source": [
    "## BEGIN YOUR ANSWER HERE"
   ]
  },
  {
   "cell_type": "code",
   "execution_count": 45,
   "metadata": {},
   "outputs": [
    {
     "data": {
      "image/png": "[encoded data removed]",
      "text/plain": [
       "<Figure size 450.875x360 with 1 Axes>"
      ]
     },
     "metadata": {
      "needs_background": "light"
     },
     "output_type": "display_data"
    }
   ],
   "source": [
    "# Use melt to \"massage\" the data into something more useful for creating a single plot\n",
    "\n",
    "benchmark2 = pd.melt(benchmark, id_vars =['Algorithm'], value_vars =['fit_time', 'test_time', 'comp_time'], var_name='Metric')\n",
    "\n",
    "g = sns.catplot(x=\"Algorithm\", y=\"value\", kind=\"bar\", data=benchmark2, hue=\"Metric\")\n",
    "g.fig.suptitle(\"Plot Chart 12\",y=-0.1)\n",
    "plt.show()"
   ]
  },
  {
   "cell_type": "code",
   "execution_count": 46,
   "metadata": {},
   "outputs": [
    {
     "data": {
      "image/png": "[encoded data removed]",
      "text/plain": [
       "<Figure size 445.125x360 with 1 Axes>"
      ]
     },
     "metadata": {
      "needs_background": "light"
     },
     "output_type": "display_data"
    }
   ],
   "source": [
    "benchmark3 = pd.melt(benchmark, id_vars =['Algorithm'], value_vars =['test_rmse', 'test_mae'], var_name='Metric')\n",
    "\n",
    "g = sns.catplot(x=\"Algorithm\", y=\"value\", kind=\"bar\", data=benchmark3, hue=\"Metric\")\n",
    "g.fig.suptitle(\"Plot Chart 13\",y=-0.1)\n",
    "plt.show()"
   ]
  },
  {
   "cell_type": "markdown",
   "metadata": {},
   "source": [
    "**Comments**\n",
    "\n",
    "#### Root Mean Squared Error (RMSE) \n",
    "\n",
    "$$ RMSE = \\sqrt{\\frac{1}{n}\\Sigma_{i=1}^{n}{\\Big(\\frac{d_i -f_i}{\\sigma_i}\\Big)^2}} $$\n",
    "\n",
    "The root mean square error (RMSE) is the residuals' standard deviation (prediction errors). Residuals are a measure of how far the data points are from the regression line, RMSE is a measure of how spread out these residuals are. In other words, it indicates how tightly the data is clustered along the line of best fit.  Lower RMSE values suggest a better match.\n",
    "\n",
    "In terms of this metric the algorithms perform from best to worst in this order:\n",
    "\n",
    "1. SlopeOne\n",
    "2. SVD\n",
    "3. KNNBasic\n",
    "4. NMF\n",
    "\n",
    "The difference between the algorithms RMSE readings is very marginal.\n",
    "\n",
    "#### Mean Absolute Error (MAE)\n",
    "\n",
    "$$ MAE = \\frac{1}{n}\\sum_{t=1}^{n}|e_t| $$\n",
    "\n",
    "A measure of errors between paired observations describing the same phenomenon is called mean absolute error (MAE). In time series analysis, the mean absolute error is a common measure of forecast error, which is often confused with the more conventional concept of mean absolute deviation.\n",
    "\n",
    "In terms of this metric the algorithms perform from best to worst in this order:\n",
    "\n",
    "1. SlopeOne\n",
    "2. SVD\n",
    "3. KNNBasic\n",
    "4. NMF\n",
    "\n",
    "The difference between the algorithms MAE measurements is once again very small. The most intriguing aspect is that we get the same ordered list of algorithms regardless of the metric used to calculate the most accurate algorithm.\n",
    "\n",
    "#### Time\n",
    "KNN is the second fastest algorithm in terms of fit time, however, the algorithm takes the longest test time.  The combination of the two leads to KNN having a poor performance in terms of time.  The test time for KNN severely hampers the performance of this algorithm.  SVD, on the other hand, takes the third longest to fit but is very quick to test. NMF is similar to SVD in that it takes a long time to test but is quick to fit.  In contrast to the other algorithms, SlopeOne is lightning fast to both fit and test and has the best overall speed.\n",
    "\n",
    "Let's order the algorithms in terms of their overall time:\n",
    "\n",
    "1. SlopeOne\n",
    "2. SVD\n",
    "3. KNNBasic\n",
    "4. NMF\n",
    "\n",
    "#### Winners and Losers\n",
    "* SlopeOne is both quick and accurate. And is outright the winner.\n",
    "* NMF is the least accurate and slowest. And is an outright loser.\n",
    "\n",
    "When comparing SVD and KNNBasic we can say:\n",
    "* SVD is both more accurate and faster than KNNBasic.\n",
    "\n",
    "**Note**: I repeated these tests many times while preparing the assignment. The outcomes aren't always predictable. SlopeOne, however, is always victorious. The outcomes of the other algorithms vary.  SVD always seems to be in second place.  While KNNBasic and NMF often have varying results. To be honest, this unpredictability makes me uncomfortable and I wonder if it is a sign of instability in the application of those alogrithms to this dataset.\n",
    "\n",
    "Keep in mind that SlopeOne was a good fit for this anonymized dataset since it includes a lot of details about the items. In the same discussion, NMF was mentioned as an emerging class of algorithms with potential privacy benefits. As a result, we must understand not only time or precision, but also the advantages and disadvantages of algorithms in light of the dataset, context, policy or regulation.\n",
    "\n",
    "Given this analysis, I would recommend SlopeOne and posssibly SVD for immediate use as a recommendation engine, but NMF could be considered with more in depth study for its abilities to protect privacy which is obviously a concern for MovieLens."
   ]
  },
  {
   "cell_type": "code",
   "execution_count": 47,
   "metadata": {},
   "outputs": [],
   "source": [
    "## END YOUR ANSWER HERE"
   ]
  }
 ],
 "metadata": {
  "jupytext": {
   "encoding": "# -*- coding: utf-8 -*-",
   "formats": "ipynb,py:percent"
  },
  "kernelspec": {
   "display_name": "Python 3",
   "language": "python",
   "name": "python3"
  },
  "language_info": {
   "codemirror_mode": {
    "name": "ipython",
    "version": 3
   },
   "file_extension": ".py",
   "mimetype": "text/x-python",
   "name": "python",
   "nbconvert_exporter": "python",
   "pygments_lexer": "ipython3",
   "version": "3.8.8"
  }
 },
 "nbformat": 4,
 "nbformat_minor": 4
}
